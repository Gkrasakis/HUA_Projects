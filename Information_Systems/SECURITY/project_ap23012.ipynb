{
  "nbformat": 4,
  "nbformat_minor": 0,
  "metadata": {
    "colab": {
      "provenance": []
    },
    "kernelspec": {
      "name": "python3",
      "display_name": "Python 3"
    },
    "language_info": {
      "name": "python"
    }
  },
  "cells": [
    {
      "cell_type": "markdown",
      "source": [
        "## **PROJECT A**"
      ],
      "metadata": {
        "id": "Hvxs7dNpQMNc"
      }
    },
    {
      "cell_type": "markdown",
      "source": [
        "##A.1\n",
        "\n"
      ],
      "metadata": {
        "id": "mmUALdNfaDEo"
      }
    },
    {
      "cell_type": "markdown",
      "source": [
        "Install cryptography library & necessary classes\n"
      ],
      "metadata": {
        "id": "FOg9eh4daJZv"
      }
    },
    {
      "cell_type": "code",
      "source": [
        "pip install cryptography"
      ],
      "metadata": {
        "colab": {
          "base_uri": "https://localhost:8080/"
        },
        "id": "2JyfAfeCQcNw",
        "outputId": "93e95a62-f477-4a74-8fee-92945d3f712f"
      },
      "execution_count": null,
      "outputs": [
        {
          "output_type": "stream",
          "name": "stdout",
          "text": [
            "Requirement already satisfied: cryptography in /usr/local/lib/python3.10/dist-packages (42.0.8)\n",
            "Requirement already satisfied: cffi>=1.12 in /usr/local/lib/python3.10/dist-packages (from cryptography) (1.16.0)\n",
            "Requirement already satisfied: pycparser in /usr/local/lib/python3.10/dist-packages (from cffi>=1.12->cryptography) (2.22)\n"
          ]
        }
      ]
    },
    {
      "cell_type": "code",
      "source": [
        "import os\n",
        "from cryptography.fernet import Fernet\n",
        "from cryptography.hazmat.primitives.ciphers.aead import ChaCha20Poly1305, AESGCM\n"
      ],
      "metadata": {
        "id": "9DKE1djUQ3Sv"
      },
      "execution_count": null,
      "outputs": []
    },
    {
      "cell_type": "markdown",
      "source": [
        "Specify the File_path & read the contents of CryptoFile\n",
        "\n",
        "from Google Drive"
      ],
      "metadata": {
        "id": "D2Hd92Ueakcr"
      }
    },
    {
      "cell_type": "code",
      "execution_count": null,
      "metadata": {
        "colab": {
          "base_uri": "https://localhost:8080/"
        },
        "id": "JHoxFLyuOKUv",
        "outputId": "e9668736-b1b7-404a-b56f-ce154f6344f5"
      },
      "outputs": [
        {
          "output_type": "stream",
          "name": "stdout",
          "text": [
            "Drive already mounted at /content/drive; to attempt to forcibly remount, call drive.mount(\"/content/drive\", force_remount=True).\n",
            "CryptoFile_content size: 201675 bytes.\n"
          ]
        }
      ],
      "source": [
        "from google.colab import drive\n",
        "drive.mount('/content/drive')\n",
        "\n",
        "\n",
        "#FILE ID ON MY OWN DRIVE\n",
        "file_path='/content/drive/MyDrive/cryptography_project/CryptoFile.pdf'\n",
        "\n",
        "def read_file(file_path):\n",
        "  with open(file_path, 'rb') as file:\n",
        "      content = file.read()\n",
        "  return content\n",
        "\n",
        "# Read the content of the CryptoFile.pdf file\n",
        "CryptoFile_content = read_file(file_path)\n",
        "print(f\"CryptoFile_content size: {len(CryptoFile_content)} bytes.\")"
      ]
    },
    {
      "cell_type": "markdown",
      "source": [
        "Define Fernet encryption Function\n",
        "\n",
        "Encrypt the PDF content and Print the encrypted_txt Size to compare"
      ],
      "metadata": {
        "id": "qPvsqUrta8i7"
      }
    },
    {
      "cell_type": "code",
      "source": [
        "#Define encryption Function (Fernet Encryption)\n",
        "def encrypt_with_fernet(data):\n",
        "    key = Fernet.generate_key()\n",
        "    f = Fernet(key)\n",
        "    encrypted_txt = f.encrypt(data)\n",
        "    return key, encrypted_txt\n",
        "\n",
        "def main(file_path):\n",
        "    data = read_file(file_path)\n",
        "\n",
        "    # Encrypt with Fernet\n",
        "    fernet_key, fernet_encrypted_txt = encrypt_with_fernet(data)\n",
        "    print(f\"Fernet encrypted_txt size: {len(fernet_encrypted_txt)} bytes\")\n",
        "\n",
        "if __name__ == \"__main__\":\n",
        "    main(file_path)"
      ],
      "metadata": {
        "colab": {
          "base_uri": "https://localhost:8080/"
        },
        "id": "CAyimduiU8th",
        "outputId": "4dec357e-b227-45ab-b053-610d0e1e472b"
      },
      "execution_count": null,
      "outputs": [
        {
          "output_type": "stream",
          "name": "stdout",
          "text": [
            "Fernet encrypted_txt size: 268984 bytes\n"
          ]
        }
      ]
    },
    {
      "cell_type": "markdown",
      "source": [
        "Define ChaCha20Poly1305 (RFC 7539) encryption Function\n",
        "\n",
        "Encrypt the PDF content and Print the encrypted_txt Size to compare"
      ],
      "metadata": {
        "id": "bk-43Yd6jJ6F"
      }
    },
    {
      "cell_type": "code",
      "source": [
        "def encrypt_with_chacha20poly1305(data):\n",
        "\n",
        "    key = ChaCha20Poly1305.generate_key()\n",
        "    aad = b\"Additional_Encrypt_From_GeorgeK\"\n",
        "    nonce = os.urandom(12)\n",
        "    chacha = ChaCha20Poly1305(key)\n",
        "    encrypted_txt = chacha.encrypt(nonce, data, aad)\n",
        "    return key, nonce, encrypted_txt\n",
        "\n",
        "\n",
        "def main(file_path):\n",
        "    data = read_file(file_path)\n",
        "\n",
        "    # Encrypt with ChaCha20Poly1305\n",
        "    chacha20_key, chacha20_nonce, chacha20_encrypted_txt = encrypt_with_chacha20poly1305(data)\n",
        "    print(f\"ChaCha20Poly1305 encrypted_txt size: {len(chacha20_encrypted_txt)} bytes\")\n",
        "\n",
        "if __name__ == \"__main__\":\n",
        "    main(file_path)"
      ],
      "metadata": {
        "colab": {
          "base_uri": "https://localhost:8080/"
        },
        "id": "UvqMyp2ujhSE",
        "outputId": "0f0aa70c-52d0-4985-e904-336d59b6b40d"
      },
      "execution_count": null,
      "outputs": [
        {
          "output_type": "stream",
          "name": "stdout",
          "text": [
            "ChaCha20Poly1305 encrypted_txt size: 201691 bytes\n"
          ]
        }
      ]
    },
    {
      "cell_type": "markdown",
      "source": [
        "Define AES-GCM (RFC 7539) encryption Function\n",
        "\n",
        "Encrypt the PDF content and Print the encrypted_txt Size to compare"
      ],
      "metadata": {
        "id": "49CabDiboZrK"
      }
    },
    {
      "cell_type": "code",
      "source": [
        "def encrypt_with_aesgcm(data):\n",
        "    key = os.urandom(32)\n",
        "    aesgcm = AESGCM(key)\n",
        "    aad = b\"Additional_Encrypt_From_GeorgeK_for_AES\"\n",
        "    nonce = os.urandom(12)\n",
        "    encrypted_txt = aesgcm.encrypt(nonce, data, aad)\n",
        "    return key, nonce, encrypted_txt\n",
        "\n",
        "def main(file_path):\n",
        "    data = read_file(file_path)\n",
        "\n",
        "    # Encrypt with AES-GCM\n",
        "    aesgcm_key, aesgcm_nonce, aesgcm_encrypted_txt = encrypt_with_aesgcm(data)\n",
        "    print(f\"AES-GCM encrypted_txt size: {len(aesgcm_encrypted_txt)} bytes\")\n",
        "\n",
        "if __name__ == \"__main__\":\n",
        "    main(file_path)"
      ],
      "metadata": {
        "colab": {
          "base_uri": "https://localhost:8080/"
        },
        "id": "Nv2qh5d-VLRj",
        "outputId": "e2742d30-b447-4546-cf6b-63bdfa75034c"
      },
      "execution_count": null,
      "outputs": [
        {
          "output_type": "stream",
          "name": "stdout",
          "text": [
            "AES-GCM encrypted_txt size: 201691 bytes\n"
          ]
        }
      ]
    },
    {
      "cell_type": "markdown",
      "source": [
        "Conclusions:\n",
        "\n",
        "\n",
        "\n",
        "*  CryptoFile_content size: 201675 bytes.\n",
        "\n",
        "*  Fernet encrypted_txt size: 268984 bytes\n",
        "*  ChaCha20Poly1305 encrypted_txt size: 201691 bytes\n",
        "\n",
        "\n",
        "*  AES-GCM encrypted_txt size: 201691 bytes\n",
        "\n",
        "\n",
        "\n"
      ],
      "metadata": {
        "id": "PyMcP2QiqM6Z"
      }
    },
    {
      "cell_type": "markdown",
      "source": [
        "##A.2"
      ],
      "metadata": {
        "id": "4CttdhL2qFbW"
      }
    },
    {
      "cell_type": "markdown",
      "source": [
        "Install necessary modules"
      ],
      "metadata": {
        "id": "ZUyZ_GHbqJ9Y"
      }
    },
    {
      "cell_type": "code",
      "source": [
        "from cryptography.hazmat.primitives import cmac, hmac, hashes\n",
        "from cryptography.hazmat.primitives.ciphers import algorithms\n",
        "from cryptography.hazmat.primitives.poly1305 import Poly1305"
      ],
      "metadata": {
        "id": "J1qb56sMqJLj"
      },
      "execution_count": null,
      "outputs": []
    },
    {
      "cell_type": "markdown",
      "source": [
        "CMAC (Cipher-based Message Authentication Code)"
      ],
      "metadata": {
        "id": "ifUQaCztrtOp"
      }
    },
    {
      "cell_type": "code",
      "source": [
        "def calculate_cmac(data, key):\n",
        "    c = cmac.CMAC(algorithms.AES(key))\n",
        "    c.update(data)\n",
        "    cmac_signature = c.finalize()\n",
        "    return cmac_signature\n",
        "\n",
        "\n",
        "def main(file_path):\n",
        "    data = read_file(file_path)\n",
        "\n",
        "    # Calculate CMAC value\n",
        "    cmac_signature = calculate_cmac(data, os.urandom(32))\n",
        "    print(f\"CMAC value size: {len(cmac_signature)} bytes\")\n",
        "    print(cmac_signature)\n",
        "\n",
        "if __name__ == \"__main__\":\n",
        "    main(file_path)\n"
      ],
      "metadata": {
        "colab": {
          "base_uri": "https://localhost:8080/"
        },
        "id": "BjsDsk5NsB6U",
        "outputId": "33e84845-9607-406f-b4d1-c2ddc25321d1"
      },
      "execution_count": null,
      "outputs": [
        {
          "output_type": "stream",
          "name": "stdout",
          "text": [
            "CMAC value size: 16 bytes\n",
            "b'\\xb5\\xecF\\x9e\\x8f\\xe1\\xe6Q@K#\\xd3\\xd1\\x94>j'\n"
          ]
        }
      ]
    },
    {
      "cell_type": "markdown",
      "source": [
        "HMAC(Hash-based message authentication codes)"
      ],
      "metadata": {
        "id": "izP8v8N2AtnJ"
      }
    },
    {
      "cell_type": "code",
      "source": [
        "def calculate_hmac(data, key):\n",
        "    h = hmac.HMAC(key, hashes.SHA256())\n",
        "    h.update(data)\n",
        "    signature = h.finalize()\n",
        "    signature\n",
        "    return signature\n",
        "\n",
        "\n",
        "def main(file_path):\n",
        "    data = read_file(file_path)\n",
        "\n",
        "    # Calculate HMAC\n",
        "    hmac_value = calculate_hmac(data, os.urandom(32))\n",
        "    print(f\"HMAC value size: {len(hmac_value)} bytes\")\n",
        "    print(hmac_value)\n",
        "\n",
        "if __name__ == \"__main__\":\n",
        "    main(file_path)"
      ],
      "metadata": {
        "colab": {
          "base_uri": "https://localhost:8080/"
        },
        "id": "MIr6i3PmBTX5",
        "outputId": "365fbb37-acbf-482c-8741-c7af9e713267"
      },
      "execution_count": null,
      "outputs": [
        {
          "output_type": "stream",
          "name": "stdout",
          "text": [
            "HMAC value size: 32 bytes\n",
            "b'4E\\x99\\x82S\\r@#\\xbf\\xa5E\\xde^f\\x1a\\xd2\\xb8\\xfc\\x86S\\x86\\xbf.\\xc0V\\xd6\\xad\\xa8\\xfb\\xc2Q\\xfe'\n"
          ]
        }
      ]
    },
    {
      "cell_type": "markdown",
      "source": [
        "Poly1305 authenticator using a 32-byte key to produce 16-byte tag"
      ],
      "metadata": {
        "id": "WGTA3ApSETyD"
      }
    },
    {
      "cell_type": "code",
      "source": [
        "def calculate_poly1305(data, key):\n",
        "    p = Poly1305(key)\n",
        "    p.update(data)\n",
        "    poly1305_auth = p.finalize()\n",
        "    return poly1305_auth\n",
        "\n",
        "\n",
        "def main(file_path):\n",
        "    data = read_file(file_path)\n",
        "\n",
        "\n",
        "    # Calculate Poly1305\n",
        "    poly1305_value = calculate_poly1305(data, os.urandom(32))\n",
        "    print(f\"Poly1305 tag size: {len(poly1305_value)} bytes\")\n",
        "    print(poly1305_value)\n",
        "\n",
        "if __name__ == \"__main__\":\n",
        "    main(file_path)\n"
      ],
      "metadata": {
        "colab": {
          "base_uri": "https://localhost:8080/"
        },
        "id": "kjBtUu59EgMB",
        "outputId": "911e5f52-77ec-4ac2-b3f3-6e50ec415997"
      },
      "execution_count": null,
      "outputs": [
        {
          "output_type": "stream",
          "name": "stdout",
          "text": [
            "Poly1305 tag size: 16 bytes\n",
            "b'\\xbc9\\x9d2\\x1eN,$\\x86\\x9dz\\x12\\x13\\xc0\\xde{'\n"
          ]
        }
      ]
    },
    {
      "cell_type": "markdown",
      "source": [
        "Conclusions:\n",
        "\n",
        "\n",
        "\n",
        "*  CMAC value size: 16 bytes\n",
        "\n",
        "*  HMAC value size: 32 bytes\n",
        "*  Poly1305 tag size: 16 bytes\n",
        "\n",
        "\n",
        "\n"
      ],
      "metadata": {
        "id": "ljM4teDrFdLQ"
      }
    },
    {
      "cell_type": "markdown",
      "source": [
        "##A.3"
      ],
      "metadata": {
        "id": "_SzWB0XNFoGV"
      }
    },
    {
      "cell_type": "markdown",
      "source": [
        "extra Install necessary modules"
      ],
      "metadata": {
        "id": "Met5rs10GBzR"
      }
    },
    {
      "cell_type": "code",
      "source": [
        "from cryptography.hazmat.primitives.asymmetric import dsa, rsa, padding\n",
        "from cryptography.hazmat.primitives.asymmetric.ed25519 import Ed25519PrivateKey"
      ],
      "metadata": {
        "id": "mPBQGKyoGGal"
      },
      "execution_count": null,
      "outputs": []
    },
    {
      "cell_type": "markdown",
      "source": [
        "DSA public-key algorithm for signing messages"
      ],
      "metadata": {
        "id": "wbZk7sJLPLMA"
      }
    },
    {
      "cell_type": "code",
      "source": [
        "def sign_dsa(data, private_key):\n",
        "  signature = private_key.sign(data, hashes.SHA256())\n",
        "  return signature\n",
        "\n",
        "\n",
        "def main(file_path):\n",
        "    data = read_file(file_path)\n",
        "\n",
        "    # Sign with DSA key generated\n",
        "    private_key = dsa.generate_private_key(key_size=2048)\n",
        "    dsa_signature = sign_dsa(data, private_key)\n",
        "    print(f\"DSA signature size: {len(dsa_signature)} bytes\")\n",
        "    print(dsa_signature)\n",
        "\n",
        "if __name__ == \"__main__\":\n",
        "    main(file_path)\n"
      ],
      "metadata": {
        "colab": {
          "base_uri": "https://localhost:8080/"
        },
        "id": "Pxvm6QQnGwxe",
        "outputId": "78c18b92-574d-4e4d-fa43-aaff74eb774f"
      },
      "execution_count": null,
      "outputs": [
        {
          "output_type": "stream",
          "name": "stdout",
          "text": [
            "DSA signature size: 70 bytes\n",
            "b'0D\\x02 \\x10\\xa9\\xfa\\x12p\\xcb\\xac\\xb7\\x90T\\x1d.P{S\\xb9\\xe9\\xb7\\xa2J\\x940\\xb9!D\\xeb\\xf9_\\xd8\\x97\\xaaH\\x02 &\\xa4\\x87\\\\^>\\xfa\\xf7\\x07k\\x85\\x1e@\\xdd\\x06\\xe5t\\xb1Z0\\xd6\\x9a\\xd5JU[?\\x9f\\xfe\\xf0\\xa9\\xe2'\n"
          ]
        }
      ]
    },
    {
      "cell_type": "markdown",
      "source": [
        "RSA\n",
        "\n",
        "The RSA algorithm involves four steps: key generation, key distribution, encryption, and decryption."
      ],
      "metadata": {
        "id": "vkTk5VAUMBU4"
      }
    },
    {
      "cell_type": "code",
      "source": [
        "def sign_rsa(data, private_key):\n",
        "    signature = private_key.sign(data,padding.PSS(mgf=padding.MGF1(hashes.SHA256()), salt_length=padding.PSS.MAX_LENGTH), hashes.SHA256())\n",
        "    return signature\n",
        "\n",
        "\n",
        "def main(file_path):\n",
        "    data = read_file(file_path)\n",
        "\n",
        "    # Sign with RSA\n",
        "    rsa_private_key = rsa.generate_private_key(public_exponent=65537,key_size=2048)\n",
        "    rsa_signature = sign_rsa(data, rsa_private_key)\n",
        "    print(f\"RSA signature size: {len(rsa_signature)} bytes\")\n",
        "    print(rsa_signature)\n",
        "\n",
        "if __name__ == \"__main__\":\n",
        "    main(file_path)"
      ],
      "metadata": {
        "colab": {
          "base_uri": "https://localhost:8080/"
        },
        "id": "5VQRAy2jGw_B",
        "outputId": "9b7aa83b-3b65-4b8f-b4be-23500a32d923"
      },
      "execution_count": null,
      "outputs": [
        {
          "output_type": "stream",
          "name": "stdout",
          "text": [
            "RSA signature size: 256 bytes\n",
            "b'\\xd6\\xf8\\x8ca\\x0e\\xc3\\xbc\\xd8z\\x93\\xa4\\x87^\\xac\\xdb\\xbbsGR\"{\\x16\\xfca:\\xbf!\\xd3g\\xc2\\xc0\\xc1\\x18\\x7f\\x81\\xdb!C1\\x1c`\\xf9\\t\\x13\\x16@z\\xd6\\xbc\\xbb\\xf3\\xdf\\xdbUd\\xe63F6z\\xe9\\xef:\\xe7\\x18\\xda\\xe2\\xbfQ\\xa5\\x9b\\x9d\\xd4e\\xe2`\\x85\\xfe\\xfd\\x1b\\xf2\\xcd\\xe8\\xb3\\xeb\\xc2\\x89\\xf8\\xb1P\\x02\\xe0>\\xab(\\\\\\x0eI0l\\x88]l\\xc2\\xd8\\xf229\\rb(\\xae\\x99u\\x9e\\xac&/c\\t\\x0b\\x1c\\x05#|\\xfbI>\\x9e`\\xac\\xb9m\\xb0\\xef\\x02r\\xdf\\xa28\\xe8\\x1dn<\\xdc>\\xdf\\xd1\\x0cC\\x80Wm\\xe0\\xbb\\x0c\\xb8\\x9bT\\x13\\xc4\\xe7\\xa8\\x96F!\\xc2\\x80\\x1a\\xeb&\\xc2\\xd4n\\x03s\\xe90\\xde<\\xae\\xd7K\\xc4\\x8a\\xbc1A\\xcc\\xa4o\\x0cJ\\x15\\xf5\\x0cP\\x11\\x9f-?\\xbb\\x1a`\\x06t\\xd0\\x1b\\xffo-d1l\\x1dj\\x0e\\xcac\\xc1A@\\x03\\xb8\\x89\\xdf\\xca\\x951}\\x99\\x84Ju\\xa2&\\xe49\\xfa\\x15bl\\x83x\\x96\\xd3q#C\\xc5\\x07W\\xa2\\x0c\\xdb\\xae'\n"
          ]
        }
      ]
    },
    {
      "cell_type": "markdown",
      "source": [
        "Ed25519 signing"
      ],
      "metadata": {
        "id": "DBMowcsSM8eu"
      }
    },
    {
      "cell_type": "code",
      "source": [
        "def sign_ed25519(data, private_key):\n",
        "    signature = private_key.sign(data)\n",
        "    return signature\n",
        "\n",
        "def main(file_path):\n",
        "    data = read_file(file_path)\n",
        "\n",
        "\n",
        " # Sign with Ed25519\n",
        "    private_key = Ed25519PrivateKey.generate()\n",
        "    ed25519_signature = sign_ed25519(data, private_key)\n",
        "    public_key = private_key.public_key()\n",
        "\n",
        "    # Raises InvalidSignature if verification fails\n",
        "    public_key.verify(ed25519_signature, data)\n",
        "    print(f\"Ed25519 signature size: {len(ed25519_signature)} bytes\")\n",
        "    print(ed25519_signature)\n",
        "\n",
        "if __name__ == \"__main__\":\n",
        "    main(file_path)"
      ],
      "metadata": {
        "colab": {
          "base_uri": "https://localhost:8080/"
        },
        "id": "oeAtxSFEGxSx",
        "outputId": "c6a897c5-b9f5-4793-daaa-6e1f9e2d724a"
      },
      "execution_count": null,
      "outputs": [
        {
          "output_type": "stream",
          "name": "stdout",
          "text": [
            "Ed25519 signature size: 64 bytes\n",
            "b'\\xb9\\xc4ND\\xb8\\xe2\\x80\\xd2\\xfd\\x0e\\xb5\\xc9\\xfe\\xcf\\xe4\\x03\\xc3fO\\x0f\\x13D\\xd3\\xb2\\x1cI\\xf5\\x19\\xa4t\\xaa\\xf6\\xd6\\xd9\\xc7\\x15jt1\\x04\\xb5\\xcc?\\xed\\xe2\\x95\\xa2\\r\\xc8I\\xc3j\\xcc\\xeb!\\xcd\\x92\\xe7\\x05u\\xc3\\xc3!\\x08'\n"
          ]
        }
      ]
    }
  ]
}